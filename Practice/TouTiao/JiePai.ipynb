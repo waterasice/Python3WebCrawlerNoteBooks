{
 "cells": [
  {
   "cell_type": "code",
   "execution_count": 2,
   "metadata": {
    "ExecuteTime": {
     "end_time": "2018-12-30T15:14:42.413740Z",
     "start_time": "2018-12-30T15:14:42.410276Z"
    }
   },
   "outputs": [],
   "source": [
    "import requests\n",
    "from urllib.parse import urlencode\n",
    "from requests.exceptions import RequestException"
   ]
  },
  {
   "cell_type": "code",
   "execution_count": 15,
   "metadata": {
    "ExecuteTime": {
     "end_time": "2018-12-30T15:25:43.807492Z",
     "start_time": "2018-12-30T15:25:43.800865Z"
    }
   },
   "outputs": [],
   "source": [
    "'''https://www.toutiao.com/search_content/?offset=0&format=json&keyword=%E8%A1%97%E6%8B%8D&autoload=true&count=20&cur_tab=1&from=search_tab&pd=synthesis'''\n",
    "\n",
    "headers = {\n",
    "    'User-Agent': 'Mozilla/5.0 (Macintosh; Intel Mac OS X 10_11_4) AppleWebKit/537.36 (KHTML, like Gecko) Chrome/52.0.2743.116 Safari/537.36'\n",
    "}\n",
    "def get_page_index(offset,keyword):\n",
    "    data = {\n",
    "        'offset':offset,\n",
    "        'format':'json',\n",
    "        'keyword':keyword,\n",
    "        'autoload':'true',\n",
    "        'count':'20',\n",
    "        'cur_tab':1,\n",
    "        'from':'search_tab',\n",
    "        'pd':'synthesis'\n",
    "    }\n",
    "    url = 'https://www.toutiao.com/search_content/?'+urlencode(data)\n",
    "    print(urlencode(data))\n",
    "    try:     \n",
    "        response = requests.get(url,headers = headers)\n",
    "        if response.status_code == 200:\n",
    "            return response.text\n",
    "        return None\n",
    "    except RequestException:\n",
    "        print('request error !')\n",
    "        return None\n",
    "\n",
    "def parse_page_index(html):\n",
    "    data = json.loads(html)\n",
    "    if data and 'data' in data.keys():\n",
    "        for item in data.get('data'):\n",
    "            yield item.get('article_url')\n",
    "            \n",
    "def get_page_detail(url):\n",
    "    try:     \n",
    "        response = requests.get(url,headers = headers)\n",
    "        if response.status_code == 200:\n",
    "            return response.text\n",
    "        return None\n",
    "    except RequestException:\n",
    "        print('request error !')\n",
    "        return None\n",
    "def main():\n",
    "    html = get_page_index(0,r'街拍')\n",
    "    for url in parse_page_index(html):\n",
    "        html = get_page_detail(url)\n",
    "        "
   ]
  },
  {
   "cell_type": "code",
   "execution_count": 16,
   "metadata": {
    "ExecuteTime": {
     "end_time": "2018-12-30T15:25:45.717323Z",
     "start_time": "2018-12-30T15:25:44.361150Z"
    }
   },
   "outputs": [
    {
     "name": "stdout",
     "output_type": "stream",
     "text": [
      "offset=0&format=json&keyword=%E8%A1%97%E6%8B%8D&autoload=true&count=20&cur_tab=1&from=search_tab&pd=synthesis\n",
      "http://toutiao.com/group/6317610219334009089/\n",
      "None\n",
      "http://toutiao.com/group/6581213306059489806/\n",
      "None\n",
      "http://toutiao.com/group/6640707640211014147/\n",
      "http://toutiao.com/group/6640311886199915016/\n",
      "http://toutiao.com/group/6640736133489623559/\n",
      "http://toutiao.com/group/6607773642631676429/\n",
      "http://toutiao.com/group/6607769834753098248/\n",
      "None\n",
      "None\n",
      "http://toutiao.com/group/6640710498587247117/\n",
      "http://toutiao.com/group/6619509994268131848/\n",
      "http://toutiao.com/group/6640708323588964867/\n",
      "http://toutiao.com/group/6640709459968524804/\n",
      "http://toutiao.com/group/6618494277762744839/\n",
      "http://toutiao.com/group/6627351736199692804/\n",
      "http://toutiao.com/group/6592892914286723598/\n",
      "http://toutiao.com/group/6638810762628301319/\n",
      "None\n"
     ]
    }
   ],
   "source": [
    "main()"
   ]
  },
  {
   "cell_type": "code",
   "execution_count": null,
   "metadata": {},
   "outputs": [],
   "source": []
  }
 ],
 "metadata": {
  "kernelspec": {
   "display_name": "Python 3",
   "language": "python",
   "name": "python3"
  },
  "language_info": {
   "codemirror_mode": {
    "name": "ipython",
    "version": 3
   },
   "file_extension": ".py",
   "mimetype": "text/x-python",
   "name": "python",
   "nbconvert_exporter": "python",
   "pygments_lexer": "ipython3",
   "version": "3.7.0"
  },
  "toc": {
   "base_numbering": 1,
   "nav_menu": {},
   "number_sections": true,
   "sideBar": true,
   "skip_h1_title": false,
   "title_cell": "Table of Contents",
   "title_sidebar": "Contents",
   "toc_cell": false,
   "toc_position": {},
   "toc_section_display": true,
   "toc_window_display": false
  },
  "varInspector": {
   "cols": {
    "lenName": 16,
    "lenType": 16,
    "lenVar": 40
   },
   "kernels_config": {
    "python": {
     "delete_cmd_postfix": "",
     "delete_cmd_prefix": "del ",
     "library": "var_list.py",
     "varRefreshCmd": "print(var_dic_list())"
    },
    "r": {
     "delete_cmd_postfix": ") ",
     "delete_cmd_prefix": "rm(",
     "library": "var_list.r",
     "varRefreshCmd": "cat(var_dic_list()) "
    }
   },
   "types_to_exclude": [
    "module",
    "function",
    "builtin_function_or_method",
    "instance",
    "_Feature"
   ],
   "window_display": false
  }
 },
 "nbformat": 4,
 "nbformat_minor": 2
}
