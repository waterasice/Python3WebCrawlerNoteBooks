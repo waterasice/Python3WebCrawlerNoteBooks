{
 "cells": [
  {
   "cell_type": "code",
   "execution_count": 1,
   "metadata": {
    "ExecuteTime": {
     "end_time": "2018-12-30T05:51:26.918475Z",
     "start_time": "2018-12-30T05:51:26.833455Z"
    }
   },
   "outputs": [],
   "source": [
    "import requests\n",
    "from requests.exceptions import RequestException\n",
    "import re"
   ]
  },
  {
   "cell_type": "code",
   "execution_count": 2,
   "metadata": {
    "ExecuteTime": {
     "end_time": "2018-12-30T05:51:26.927241Z",
     "start_time": "2018-12-30T05:51:26.920442Z"
    }
   },
   "outputs": [],
   "source": [
    "class Spider(object):\n",
    "    \n",
    "    def __init__(self,url):\n",
    "        self.url = url\n",
    "        self.headers = {\n",
    "    'User-Agent': 'Mozilla/5.0 (Macintosh; Intel Mac OS X 10_11_4) AppleWebKit/537.36 (KHTML, like Gecko) Chrome/52.0.2743.116 Safari/537.36'\n",
    "}\n",
    "        \n",
    "    def get_one_page(self):\n",
    "        try :\n",
    "            response = requests.get(self.url, headers=self.headers)\n",
    "            if response.status_code == 200 :\n",
    "                return response.text\n",
    "            return None\n",
    "        except RequestException:\n",
    "            print('RequestException')\n",
    "            return None\n",
    "        \n",
    "        \n",
    "    def parse_one_page(self):\n",
    "        pattern = re.compile('<dd>.*?board-index board-index.*?>(\\d+)</i>.*?data-src=\"(.*?)\".*?><a'+\n",
    "                         '.*?>(.*?)</a>.*?star\">(.*?)</p>.*?releasetime\">(.*?)</p>'+\n",
    "                        '.*?integer\">(.*?)</i>.*?fraction\">(.*?)</i>.*?</dd>',re.S)\n",
    "        items = re.findall(pattern,self.html)\n",
    "        for item in items:\n",
    "            yield{\n",
    "                'index':item[0],\n",
    "                'image':item[1],\n",
    "                'title':item[2],\n",
    "                'actor':item[3].strip()[3:],\n",
    "                'time':item[4].strip()[5:],\n",
    "                'score':item[5]+item[6]\n",
    "            }\n",
    "            \n",
    "    def write_to_txt(self,content):\n",
    "        with open('result.txt','a',encoding = 'utf-8') as f:\n",
    "            f.write(json.dumps(content,ensure_ascii=False)+'\\n')\n",
    "            \n",
    "    def get_all_page(self,offset):\n",
    "        url = 'https://maoyan.com/board/4?offset='\n",
    "        self.url = url +str(offset)\n",
    "        print('now is parse '+ self.url)\n",
    "        self.html = self.get_one_page()\n",
    "        for item in self.parse_one_page():\n",
    "            #print(item)\n",
    "            self.write_to_txt(item)"
   ]
  },
  {
   "cell_type": "code",
   "execution_count": 3,
   "metadata": {
    "ExecuteTime": {
     "end_time": "2018-12-30T05:51:28.857170Z",
     "start_time": "2018-12-30T05:51:26.929655Z"
    }
   },
   "outputs": [
    {
     "name": "stdout",
     "output_type": "stream",
     "text": [
      "now is parse https://maoyan.com/board/4?offset=0\n",
      "now is parse https://maoyan.com/board/4?offset=10\n",
      "now is parse https://maoyan.com/board/4?offset=20\n",
      "now is parse https://maoyan.com/board/4?offset=30\n",
      "now is parse https://maoyan.com/board/4?offset=40\n",
      "now is parse https://maoyan.com/board/4?offset=50\n",
      "now is parse https://maoyan.com/board/4?offset=60\n",
      "now is parse https://maoyan.com/board/4?offset=70\n",
      "now is parse https://maoyan.com/board/4?offset=80\n",
      "now is parse https://maoyan.com/board/4?offset=90\n"
     ]
    }
   ],
   "source": [
    "if __name__ == '__main__':\n",
    "    url = 'https://maoyan.com/board/4?offset='\n",
    "    spider = Spider(url)\n",
    "    for i in range(10):\n",
    "        spider.get_all_page(i*10)\n",
    "        "
   ]
  },
  {
   "cell_type": "markdown",
   "metadata": {},
   "source": [
    "使用进程池"
   ]
  },
  {
   "cell_type": "code",
   "execution_count": 4,
   "metadata": {
    "ExecuteTime": {
     "end_time": "2018-12-30T05:51:28.866643Z",
     "start_time": "2018-12-30T05:51:28.859853Z"
    }
   },
   "outputs": [],
   "source": [
    "from multiprocessing import Pool"
   ]
  },
  {
   "cell_type": "code",
   "execution_count": 5,
   "metadata": {
    "ExecuteTime": {
     "end_time": "2018-12-30T05:51:30.908041Z",
     "start_time": "2018-12-30T05:51:28.868685Z"
    }
   },
   "outputs": [
    {
     "name": "stdout",
     "output_type": "stream",
     "text": [
      "now is parse https://maoyan.com/board/4?offset=0\n",
      "now is parse https://maoyan.com/board/4?offset=20\n",
      "now is parse https://maoyan.com/board/4?offset=10\n",
      "now is parse https://maoyan.com/board/4?offset=30\n",
      "now is parse https://maoyan.com/board/4?offset=60\n",
      "now is parse https://maoyan.com/board/4?offset=40\n",
      "now is parse https://maoyan.com/board/4?offset=50\n",
      "now is parse https://maoyan.com/board/4?offset=70\n",
      "now is parse https://maoyan.com/board/4?offset=80\n",
      "now is parse https://maoyan.com/board/4?offset=90\n"
     ]
    },
    {
     "data": {
      "text/plain": [
       "[None, None, None, None, None, None, None, None, None, None]"
      ]
     },
     "execution_count": 5,
     "metadata": {},
     "output_type": "execute_result"
    }
   ],
   "source": [
    "pool = Pool()\n",
    "pool.map(spider.get_all_page,[i for i in range(0,100,10)])"
   ]
  },
  {
   "cell_type": "code",
   "execution_count": null,
   "metadata": {},
   "outputs": [],
   "source": []
  }
 ],
 "metadata": {
  "kernelspec": {
   "display_name": "Python 3",
   "language": "python",
   "name": "python3"
  },
  "language_info": {
   "codemirror_mode": {
    "name": "ipython",
    "version": 3
   },
   "file_extension": ".py",
   "mimetype": "text/x-python",
   "name": "python",
   "nbconvert_exporter": "python",
   "pygments_lexer": "ipython3",
   "version": "3.7.0"
  },
  "toc": {
   "base_numbering": 1,
   "nav_menu": {},
   "number_sections": true,
   "sideBar": true,
   "skip_h1_title": false,
   "title_cell": "Table of Contents",
   "title_sidebar": "Contents",
   "toc_cell": false,
   "toc_position": {},
   "toc_section_display": true,
   "toc_window_display": false
  },
  "varInspector": {
   "cols": {
    "lenName": 16,
    "lenType": 16,
    "lenVar": 40
   },
   "kernels_config": {
    "python": {
     "delete_cmd_postfix": "",
     "delete_cmd_prefix": "del ",
     "library": "var_list.py",
     "varRefreshCmd": "print(var_dic_list())"
    },
    "r": {
     "delete_cmd_postfix": ") ",
     "delete_cmd_prefix": "rm(",
     "library": "var_list.r",
     "varRefreshCmd": "cat(var_dic_list()) "
    }
   },
   "types_to_exclude": [
    "module",
    "function",
    "builtin_function_or_method",
    "instance",
    "_Feature"
   ],
   "window_display": false
  }
 },
 "nbformat": 4,
 "nbformat_minor": 2
}
