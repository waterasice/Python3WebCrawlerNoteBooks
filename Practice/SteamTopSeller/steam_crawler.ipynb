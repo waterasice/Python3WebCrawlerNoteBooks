{
 "cells": [
  {
   "cell_type": "markdown",
   "metadata": {},
   "source": [
    "# 一、爬取目标入口站点"
   ]
  },
  {
   "cell_type": "code",
   "execution_count": null,
   "metadata": {
    "collapsed": true
   },
   "outputs": [],
   "source": [
    "import requests\n",
    "import re\n",
    "\n",
    "G_TARGET_URL = 'https://store.steampowered.com/search/?category1=998&filter=topsellers'\n",
    "headers = {\n",
    "    'User-Agent': 'Mozilla/5.0 (Windows NT 6.1; WOW64) AppleWebKit/537.36 (KHTML, like Gecko) Chrome/65.0.3325.146 Safari/537.36'\n",
    "}\n",
    "response = requests.get(G_TARGET_URL, headers=headers)\n",
    "content = response.text"
   ]
  },
  {
   "cell_type": "markdown",
   "metadata": {},
   "source": [
    "## 测试匹配 url 的正则表达式"
   ]
  },
  {
   "cell_type": "code",
   "execution_count": null,
   "metadata": {
    "collapsed": true
   },
   "outputs": [],
   "source": [
    "pattern = re.compile('<a href=\"([a-zA-z]+://[^\\s]*?)\".*?data-ds-appid=.*?data-ds-tagids=.*?',re.S)\n",
    "results = re.findall(pattern, content)\n",
    "#results"
   ]
  },
  {
   "cell_type": "markdown",
   "metadata": {},
   "source": [
    "## 爬取总页数并收集每个游戏的 url 链接\n",
    "\n",
    "- 总页数实时变化\n",
    "- 爬取的详细链接都放入 GAME_URL 该链表中"
   ]
  },
  {
   "cell_type": "code",
   "execution_count": null,
   "metadata": {
    "collapsed": true
   },
   "outputs": [],
   "source": [
    "page_compile = re.compile('page=(.*?)\" onclick=',re.S)\n",
    "content = response.text\n",
    "pages = re.findall(page_compile, content)\n",
    "max_page = pages[2]\n",
    "print('total pages is :',max_page)\n",
    "GAME_URL = []\n",
    "pattern = re.compile('<a href=\"([a-zA-z]+://[^\\s]*?)\".*?data-ds-appid',re.S)\n",
    "for page in range(int(max_page)+1):\n",
    "    targe_url = G_TARGET_URL+'&page='+str(page)\n",
    "    try :\n",
    "        response = requests.get(targe_url, headers=headers)\n",
    "        content = response.text\n",
    "        results = re.findall(pattern, content)\n",
    "        for url in results:\n",
    "            if len(url)< 60 :\n",
    "                #print(\"del wrong url :\",url)\n",
    "                results.remove(url)\n",
    "                \n",
    "        GAME_URL.extend(results)\n",
    "        print(targe_url,\" is OK\"+'\\r',end=\"\")\n",
    "    except:\n",
    "        print(targe_url,\" is NOT OK\"+'\\r',end=\"\")"
   ]
  },
  {
   "cell_type": "markdown",
   "metadata": {},
   "source": [
    "## 查看所有详细链接"
   ]
  },
  {
   "cell_type": "code",
   "execution_count": null,
   "metadata": {
    "collapsed": true
   },
   "outputs": [],
   "source": [
    "GAME_URL"
   ]
  },
  {
   "cell_type": "markdown",
   "metadata": {},
   "source": [
    "## 所有详细链接保存至 urls.txt"
   ]
  },
  {
   "cell_type": "code",
   "execution_count": null,
   "metadata": {
    "collapsed": true
   },
   "outputs": [],
   "source": [
    "with open(\"urls.txt\",'w+') as f:\n",
    "    for url in GAME_URL:\n",
    "        f.write(str(url))\n",
    "        f.write('\\n')"
   ]
  },
  {
   "cell_type": "markdown",
   "metadata": {},
   "source": [
    "# 二、爬取单个游戏的详细信息"
   ]
  },
  {
   "cell_type": "code",
   "execution_count": null,
   "metadata": {
    "collapsed": true
   },
   "outputs": [],
   "source": [
    "TARGET_URL = 'https://store.steampowered.com/app/730/CounterStrike_Global_Offensive/'\n",
    "response = requests.get(TARGET_URL, headers=headers)\n",
    "content = response.text\n"
   ]
  },
  {
   "cell_type": "markdown",
   "metadata": {},
   "source": [
    "## 获取游戏名"
   ]
  },
  {
   "cell_type": "code",
   "execution_count": null,
   "metadata": {
    "collapsed": true
   },
   "outputs": [],
   "source": [
    "name_pattern = re.compile('<div class=\"apphub_AppName\">(.*?)</div>',re.S)\n",
    "results = re.findall(name_pattern, content)\n",
    "results"
   ]
  },
  {
   "cell_type": "markdown",
   "metadata": {},
   "source": [
    "## 获取游戏公司"
   ]
  },
  {
   "cell_type": "code",
   "execution_count": null,
   "metadata": {
    "collapsed": true
   },
   "outputs": [],
   "source": [
    "developer_pattern = re.compile(r'\"developers_list\".*?<a href=.*?>(.*?)</a>',re.S)\n",
    "results = re.findall(developer_pattern, content)\n",
    "results"
   ]
  },
  {
   "cell_type": "markdown",
   "metadata": {},
   "source": [
    "## 获取好评等级"
   ]
  },
  {
   "cell_type": "code",
   "execution_count": null,
   "metadata": {
    "collapsed": true
   },
   "outputs": [],
   "source": [
    "description_pattern = re.compile('<span class=\"game_review_summary positive\" itemprop=\"description\">(.*?)</span>',re.S)\n",
    "results = re.findall(description_pattern, content)\n",
    "results"
   ]
  },
  {
   "cell_type": "markdown",
   "metadata": {},
   "source": [
    "## 获取评价人数"
   ]
  },
  {
   "cell_type": "code",
   "execution_count": null,
   "metadata": {
    "collapsed": true
   },
   "outputs": [],
   "source": [
    "responsive_pattern = re.compile('<span class=\"responsive_hidden\">.*?\\\\((.*?)\\\\).*?</span>',re.S)\n",
    "results = re.findall(responsive_pattern, content)\n",
    "results[1]"
   ]
  },
  {
   "cell_type": "markdown",
   "metadata": {},
   "source": [
    "## 获取发行时间"
   ]
  },
  {
   "cell_type": "code",
   "execution_count": null,
   "metadata": {
    "collapsed": true
   },
   "outputs": [],
   "source": [
    "date_pattern = re.compile('<div class=\"date\">(.*?)</div>',re.S)\n",
    "results = re.findall(date_pattern, content)\n",
    "results"
   ]
  },
  {
   "cell_type": "markdown",
   "metadata": {},
   "source": [
    "## 获取价格"
   ]
  },
  {
   "cell_type": "code",
   "execution_count": null,
   "metadata": {
    "collapsed": true
   },
   "outputs": [],
   "source": [
    "price_pattern = re.compile('<div class=\"game_purchase_price price\".*?>(.*?)</div>',re.S)\n",
    "price = re.findall(price_pattern, content)\n",
    "if len(price) <1:\n",
    "    bs = etree.HTML(content) \n",
    "    price = bs.xpath('//div [@class=\"discount_prices\"]/div[2]')[0].text\n",
    "price[0].strip()"
   ]
  },
  {
   "cell_type": "markdown",
   "metadata": {},
   "source": [
    "## 获取系统需求"
   ]
  },
  {
   "cell_type": "code",
   "execution_count": null,
   "metadata": {
    "collapsed": true
   },
   "outputs": [],
   "source": [
    "from lxml import etree \n",
    "bs = etree.HTML(content) \n",
    "content_active = bs.xpath('//div [@class = \"game_area_sys_req sysreq_content active\"]/div[1]/ul/ul/li')\n",
    "results= []\n",
    "for i in content_active:\n",
    "    results.append(i.xpath('./text()'))\n",
    "results"
   ]
  },
  {
   "cell_type": "markdown",
   "metadata": {},
   "source": [
    "## 获取游戏标签"
   ]
  },
  {
   "cell_type": "code",
   "execution_count": null,
   "metadata": {
    "collapsed": true
   },
   "outputs": [],
   "source": [
    "table_pattern = re.compile('<a href=\"https://store.steampowered.com/tags/.*?\" class=\"app_tag\" style=.*?>(.*?)</a>',re.S)\n",
    "results = re.findall(table_pattern, content)\n",
    "new_res = []\n",
    "for r in results:\n",
    "    new_res.append(r.strip())\n",
    "new_res"
   ]
  },
  {
   "cell_type": "markdown",
   "metadata": {},
   "source": [
    "## 获取语言种类"
   ]
  },
  {
   "cell_type": "code",
   "execution_count": null,
   "metadata": {
    "collapsed": true
   },
   "outputs": [],
   "source": [
    "language_pattern = re.compile('<td style=.*? class=\"ellipsis\">(.*?)</td>',re.S)\n",
    "results = re.findall(language_pattern, content)\n",
    "new_res = []\n",
    "for r in results:\n",
    "    new_res.append(r.strip())\n",
    "new_res "
   ]
  },
  {
   "cell_type": "markdown",
   "metadata": {},
   "source": [
    "# 三、爬取所有游戏的详细信息并存成 csv 文件 \n",
    "\n",
    "- 2000 多页大约耗时 25 分钟"
   ]
  },
  {
   "cell_type": "code",
   "execution_count": null,
   "metadata": {
    "collapsed": true
   },
   "outputs": [],
   "source": [
    "NAME = []\n",
    "COMPANY = []\n",
    "PRAISE_LEVEL=[]\n",
    "COMMENT_NUMBER = []\n",
    "LANGUAGE = []\n",
    "PRICE = []\n",
    "ISSUE_TIME = []\n",
    "SYSTEM_REQ = []\n",
    "GGME_TAG = []\n",
    "index = 0\n",
    "session = requests.Session()\n",
    "for url in GAME_URL:\n",
    "#     index = index+1  #调试 10 页\n",
    "#     if index>10:\n",
    "#         break\n",
    "    session.cookies['cookie'] = 'wants_mature_content=1; browserid=1340293676165560377; sessionid=e882a8713f7f85abfeb4452e; timezoneOffset=28800,0; _ga=GA1.2.2034098390.1556032675; _gid=GA1.2.782308328.1556032675; Steam_Language=english; app_impressions=10:80@1_5_9__412|300@1_5_9__412|20@1_5_9__412|30@1_5_9__412|40@1_5_9__412|50@1_5_9__412|60@1_5_9__412|70@1_5_9__412|130@1_5_9__412|291480@1_5_9__300|222880@1_5_9__300|10@1_5_9__300|240@1_5_9__300|10:80@1_5_9__412|300@1_5_9__412|20@1_5_9__412|30@1_5_9__412|40@1_5_9__412|50@1_5_9__412|60@1_5_9__412|70@1_5_9__412|130@1_5_9__412|291480@1_5_9__300|222880@1_5_9__300|10@1_5_9__300|240@1_5_9__300; steamCountry=CN%7Ce2a2b396cdbf0bada4bc1dd9a31f10fe; birthtime=723139201; lastagecheckage=1-0-1993; recentapps=%7B%22239140%22%3A1556039491%2C%22570%22%3A1556039076%2C%22730%22%3A1556034113%7D'\n",
    "    response = session.get(url, headers=headers)\n",
    "    content = response.text\n",
    "    try:\n",
    "        #游戏名\n",
    "        name_pattern = re.compile('<div class=\"apphub_AppName\">(.*?)</div>',re.S)\n",
    "        name = re.findall(name_pattern, content)\n",
    "        print(\"name is OK !\")\n",
    "        #公司\n",
    "        developer_pattern = re.compile(r'\"developers_list\".*?<a href=.*?>(.*?)</a>',re.S)\n",
    "        developer = re.findall(developer_pattern, content) \n",
    "        print(\"developer is OK !\")\n",
    "        #评论人数\n",
    "        responsive_pattern = re.compile('<span class=\"responsive_hidden\">.*?\\\\((.*?)\\\\).*?</span>',re.S)\n",
    "        comment_num = re.findall(responsive_pattern, content)\n",
    "        print(\"comment_num is OK !\")\n",
    "        #好评等级\n",
    "        description_pattern = re.compile('<span class=\"game_review_summary positive\" itemprop=\"description\">(.*?)</span>',re.S)\n",
    "        description = re.findall(description_pattern, content)\n",
    "        print(\"description is OK !\")\n",
    "        #语言种类\n",
    "        language_pattern = re.compile('<td style=.*? class=\"ellipsis\">(.*?)</td>',re.S)\n",
    "        languages = re.findall(language_pattern, content)\n",
    "        language_res = []\n",
    "        for r in languages:\n",
    "            language_res.append(r.strip())\n",
    "        print(\"languages is OK !\")\n",
    "        #价格\n",
    "        price_pattern = re.compile('<div class=\"game_purchase_price price\".*?>(.*?)</div>',re.S)\n",
    "        price = re.findall(price_pattern, content)\n",
    "        #打折情况\n",
    "        if len(price) <1: \n",
    "            bs = etree.HTML(content) \n",
    "            price = bs.xpath('//div [@class=\"discount_prices\"]/div[2]')[0].text\n",
    "        print(\"price is OK !\")\n",
    "        #发行日期\n",
    "        date_pattern = re.compile('<div class=\"date\">(.*?)</div>',re.S)\n",
    "        date = re.findall(date_pattern, content)\n",
    "        print(\"date is OK !\")\n",
    "        #配置要求\n",
    "        bs = etree.HTML(content) \n",
    "        content_active = bs.xpath('//div [@class = \"game_area_sys_req sysreq_content active\"]/div[1]/ul/ul/li')\n",
    "        req= []\n",
    "        for i in content_active:\n",
    "            req.append(i.xpath('./text()'))\n",
    "        print(\"req is OK !\")\n",
    "        #游戏标签\n",
    "        tag_pattern = re.compile('<a href=\"https://store.steampowered.com/tags/.*?\" class=\"app_tag\" style=.*?>(.*?)</a>',re.S)\n",
    "        tags = re.findall(tag_pattern, content)\n",
    "        tag_res = []\n",
    "        for r in tags:\n",
    "            new_res.append(r.strip())     \n",
    "        print(\"tags is OK !\")\n",
    "        \n",
    "        NAME.append(name)\n",
    "        COMPANY.append(developer)\n",
    "        PRAISE_LEVEL.append(description)\n",
    "        if len(comment_num)>=2:\n",
    "            COMMENT_NUMBER.append(comment_num[1])\n",
    "        else:\n",
    "            COMMENT_NUMBER.append('No user reviews')\n",
    "        LANGUAGE.append(language_res)\n",
    "        PRICE.append(price[0].strip())\n",
    "        ISSUE_TIME.append(date)\n",
    "        SYSTEM_REQ.append(req)\n",
    "        GGME_TAG.append(tag_res)\n",
    "        print(url,\" is OK !\")\n",
    "        \n",
    "    except:\n",
    "        #有些网页需要登录账号查看，所以会导致获取数据失败\n",
    "        print(url,\" is Not OK !!!!!!!!!!!!!!!!!!!!!!!!!!\")"
   ]
  },
  {
   "cell_type": "code",
   "execution_count": null,
   "metadata": {
    "collapsed": true,
    "scrolled": true
   },
   "outputs": [],
   "source": [
    "import pandas as pd\n",
    "from pandas.core.frame import DataFrame\n",
    " \n",
    "all_data={\"name\" : NAME,\n",
    "   \"company\" : COMPANY,\n",
    "   \"praise level\" : PRAISE_LEVEL,\n",
    "   \"comment number\" : COMMENT_NUMBER,\n",
    "   \"language\" : LANGUAGE,\n",
    "   \"price\" : PRICE,\n",
    "   \"issue time\" : ISSUE_TIME,\n",
    "   \"system require\" : SYSTEM_REQ,\n",
    "   \"game tags\" : GGME_TAG}#将列表转换成字典\n",
    "data=DataFrame(all_data)#将字典转换成为数据框"
   ]
  },
  {
   "cell_type": "code",
   "execution_count": null,
   "metadata": {
    "collapsed": true
   },
   "outputs": [],
   "source": [
    "# 简单清洗数据\n",
    "data_copy = data\n",
    "def dataFilter(category):\n",
    "    s = str(category)\n",
    "    s = s.replace('[','')\n",
    "    s = s.replace(']','')\n",
    "    s = s.replace('\\'','')\n",
    "    s = s.replace('¥','')\n",
    "    return s\n",
    "\n",
    "data['Name'] = data_copy['name'].apply(dataFilter)\n",
    "data['Company'] = data_copy['company'].apply(dataFilter)\n",
    "data['Praise Level'] = data_copy['praise level'].apply(dataFilter)\n",
    "data['Comment Number'] = data_copy['comment number'].apply(dataFilter)\n",
    "data['Language'] = data_copy['language'].apply(dataFilter)\n",
    "data['Price'] = data_copy['price'].apply(dataFilter)\n",
    "data['Issue time'] = data_copy['issue time'].apply(dataFilter)\n",
    "data['System Require'] = data_copy['system require'].apply(dataFilter)\n",
    "data['Game Tags'] = data_copy['game tags'].apply(dataFilter)\n",
    "\n",
    "del data['name']\n",
    "del data['company']\n",
    "del data['praise level']\n",
    "del data['comment number']\n",
    "del data['language']\n",
    "del data['price']\n",
    "del data['issue time']\n",
    "del data['system require']\n",
    "del data['game tags']"
   ]
  },
  {
   "cell_type": "code",
   "execution_count": null,
   "metadata": {
    "collapsed": true
   },
   "outputs": [],
   "source": [
    "# encoding 防止中文乱码\n",
    "data.to_csv('all_data.csv',encoding='utf_8_sig')"
   ]
  },
  {
   "cell_type": "code",
   "execution_count": null,
   "metadata": {
    "collapsed": true
   },
   "outputs": [],
   "source": []
  },
  {
   "cell_type": "code",
   "execution_count": null,
   "metadata": {
    "collapsed": true
   },
   "outputs": [],
   "source": []
  }
 ],
 "metadata": {
  "kernelspec": {
   "display_name": "Python 3",
   "language": "python",
   "name": "python3"
  },
  "language_info": {
   "codemirror_mode": {
    "name": "ipython",
    "version": 3
   },
   "file_extension": ".py",
   "mimetype": "text/x-python",
   "name": "python",
   "nbconvert_exporter": "python",
   "pygments_lexer": "ipython3",
   "version": "3.6.3"
  }
 },
 "nbformat": 4,
 "nbformat_minor": 2
}
